{
 "cells": [
  {
   "cell_type": "markdown",
   "metadata": {},
   "source": [
    "# From Raw SEC Filings to LLM-Ready Markdown\n",
    "\n",
    "**How messy SEC HTML becomes clean, structured Markdown for retrieval and reasoning.**\n",
    "\n",
    "SEC filings are built for browsers, not models. Tables are complex and get completely garbled by standard parsers, XBRL tags pollute the text, and 200+ page documents have no clear structure. Let's see how `sec2md` transforms that chaos into clean, structured Markdown that an AI can reason over."
   ]
  },
  {
   "cell_type": "markdown",
   "metadata": {},
   "source": [
    "## Setup\n",
    "\n",
    "The SEC requires a user agent string. `edgartools` handles that for us."
   ]
  },
  {
   "cell_type": "code",
   "execution_count": null,
   "metadata": {},
   "outputs": [],
   "source": [
    "# Install if needed\n",
    "# !pip install edgartools sec2md\n",
    "\n",
    "from edgar import Company, set_identity\n",
    "import sec2md\n",
    "from IPython.display import Markdown, HTML, display\n",
    "\n",
    "# Set your identity for SEC\n",
    "set_identity(\"Your Name <you@example.com>\")"
   ]
  },
  {
   "cell_type": "markdown",
   "metadata": {},
   "source": [
    "## 1. The Problem: Raw SEC HTML is Unusable\n",
    "\n",
    "Let's pull Apple's latest 10-K and see what we're dealing with."
   ]
  },
  {
   "cell_type": "code",
   "execution_count": null,
   "metadata": {},
   "outputs": [],
   "source": [
    "company = Company(\"AAPL\")\n",
    "filing = company.get_filings(form=\"10-K\").latest()\n",
    "\n",
    "print(f\"Filing: {filing.form} - {filing.filing_date}\")\n",
    "print(f\"Period: {filing.report_date}\")"
   ]
  },
  {
   "cell_type": "markdown",
   "metadata": {},
   "source": [
    "### What Does the Raw HTML Look Like?\n",
    "\n",
    "This is what standard parsers have to deal with — complex tables with nested structures, absolutely positioned `<div>` elements, inline styles, and XBRL tags everywhere."
   ]
  },
  {
   "cell_type": "code",
   "execution_count": null,
   "metadata": {},
   "outputs": [],
   "source": [
    "html = filing.html()\n",
    "\n",
    "# Show raw HTML\n",
    "print(\"Raw HTML (first 1000 chars):\")\n",
    "print(\"=\" * 80)\n",
    "print(html[5000:6000])  # Skip header boilerplate\n",
    "print(\"=\" * 80)"
   ]
  },
  {
   "cell_type": "markdown",
   "metadata": {},
   "source": [
    "### The Problem: Tables Get Completely Garbled\n",
    "\n",
    "Standard HTML-to-text parsers can't handle the complexity of SEC tables. They don't just \"break\" on edge cases — **all tables get garbled**. Let's see what a simple library would produce:"
   ]
  },
  {
   "cell_type": "code",
   "execution_count": null,
   "metadata": {},
   "outputs": [],
   "source": [
    "# What a naive parser produces\n",
    "from bs4 import BeautifulSoup\n",
    "\n",
    "soup = BeautifulSoup(html, 'html.parser')\n",
    "naive_text = soup.get_text(separator=' ', strip=True)\n",
    "\n",
    "print(\"Naive HTML-to-text output (first 1000 chars):\")\n",
    "print(\"=\" * 80)\n",
    "print(naive_text[:1000])\n",
    "print(\"=\" * 80)\n",
    "print(\"\\nNotice: No structure, no tables, XBRL tags mixed in, whitespace chaos.\")"
   ]
  },
  {
   "cell_type": "markdown",
   "metadata": {},
   "source": [
    "## 2. The Solution: Clean, Structured Markdown\n",
    "\n",
    "`sec2md` rebuilds the document structure from scratch. Tables become pipe-formatted Markdown, headers preserve hierarchy, and XBRL tags vanish. This isn't cosmetic — **it changes how a model can understand the document**."
   ]
  },
  {
   "cell_type": "code",
   "execution_count": null,
   "metadata": {},
   "outputs": [],
   "source": [
    "md = sec2md.convert_to_markdown(html)\n",
    "\n",
    "print(f\"Total length: {len(md):,} characters\")\n",
    "print(f\"\\nFirst 1000 chars (raw):\")\n",
    "print(\"=\" * 80)\n",
    "print(md[:1000])\n",
    "print(\"=\" * 80)"
   ]
  },
  {
   "cell_type": "markdown",
   "metadata": {},
   "source": [
    "### See the Difference: Rendered Markdown\n",
    "\n",
    "Now let's see what this looks like when rendered (compare to the raw HTML above):"
   ]
  },
  {
   "cell_type": "code",
   "execution_count": null,
   "metadata": {},
   "outputs": [],
   "source": [
    "display(Markdown(md[:2000]))"
   ]
  },
  {
   "cell_type": "markdown",
   "metadata": {},
   "source": [
    "**Clean headers, preserved structure, readable tables.** This is what makes LLM reasoning possible."
   ]
  },
  {
   "cell_type": "markdown",
   "metadata": {},
   "source": [
    "## 3. Section Awareness: Your Agent Doesn't Need to Search Everything\n",
    "\n",
    "A 10-K is modular: *Item 1. Business*, *Item 1A. Risk Factors*, *Item 7. MD&A*. Section awareness means your agent doesn't have to search the entire 200-page document — **it can target exactly where a fact belongs**."
   ]
  },
  {
   "cell_type": "code",
   "execution_count": null,
   "metadata": {},
   "outputs": [],
   "source": [
    "# Convert with page tracking\n",
    "pages = sec2md.convert_to_markdown(html, return_pages=True)\n",
    "\n",
    "print(f\"Total pages: {len(pages)}\")\n",
    "print(f\"\\nFirst page preview:\")\n",
    "print(pages[0].content[:300])"
   ]
  },
  {
   "cell_type": "markdown",
   "metadata": {},
   "source": [
    "### Extract All Sections"
   ]
  },
  {
   "cell_type": "code",
   "execution_count": null,
   "metadata": {},
   "outputs": [],
   "source": [
    "sections = sec2md.extract_sections(pages, filing_type=\"10-K\")\n",
    "\n",
    "print(f\"Total sections found: {len(sections)}\\n\")\n",
    "print(\"Section breakdown:\")\n",
    "for section in sections:\n",
    "    print(f\"  {section.item}: {section.item_title} (Pages {section.page_range[0]}-{section.page_range[1]})\")"
   ]
  },
  {
   "cell_type": "markdown",
   "metadata": {},
   "source": [
    "### Get a Specific Section: Risk Factors\n",
    "\n",
    "Instead of retrieving from 59 pages, we can target the exact section we need."
   ]
  },
  {
   "cell_type": "code",
   "execution_count": null,
   "metadata": {},
   "outputs": [],
   "source": [
    "risk = sec2md.get_section(sections, sec2md.Item10K.RISK_FACTORS)\n",
    "\n",
    "if risk:\n",
    "    print(f\"Section: {risk.item} - {risk.item_title}\")\n",
    "    print(f\"Page range: {risk.page_range}\")\n",
    "    print(f\"Total pages in section: {len(risk.pages)}\")\n",
    "    print(f\"Total chars: {len(risk.markdown()):,}\")\n",
    "    print(f\"\\nFirst 500 chars (raw):\")\n",
    "    print(risk.markdown()[:500])\n",
    "else:\n",
    "    print(\"Risk Factors section not found\")"
   ]
  },
  {
   "cell_type": "markdown",
   "metadata": {},
   "source": [
    "### Rendered Section"
   ]
  },
  {
   "cell_type": "code",
   "execution_count": null,
   "metadata": {},
   "outputs": [],
   "source": [
    "display(Markdown(risk.markdown()[:1500]))"
   ]
  },
  {
   "cell_type": "markdown",
   "metadata": {},
   "source": [
    "## 4. Chunking for Retrieval: Semantic Atoms with Context\n",
    "\n",
    "Each chunk keeps page numbers, section titles, and headers. When embedded, these become **semantic \"atoms\" for retrieval** — a model can cite specific pages or sections instead of hallucinating context."
   ]
  },
  {
   "cell_type": "markdown",
   "metadata": {},
   "source": [
    "### Chunk the Risk Factors Section"
   ]
  },
  {
   "cell_type": "code",
   "execution_count": null,
   "metadata": {},
   "outputs": [],
   "source": [
    "if risk:\n",
    "    # Build header for better embeddings\n",
    "    header = f\"\"\"# Apple Inc. (AAPL - NASDAQ)\n",
    "Sector: Technology | Industry: Consumer Electronics\n",
    "Form 10-K | FY 2024 | Filed: {filing.filing_date}\n",
    "\n",
    "## Risk Factors\n",
    "\"\"\"\n",
    "    \n",
    "    # Chunk with header\n",
    "    risk_chunks = sec2md.chunk_section(risk, chunk_size=512, header=header)\n",
    "    \n",
    "    print(f\"Risk Factors chunks: {len(risk_chunks)}\")\n",
    "    print(f\"\\nFirst 3 chunks:\")\n",
    "    for i, chunk in enumerate(risk_chunks[:3]):\n",
    "        print(f\"\\n{'='*80}\")\n",
    "        print(f\"Chunk {i+1} | Page {chunk.page} | {chunk.num_tokens} tokens | Has table: {chunk.has_table}\")\n",
    "        print(f\"{'='*80}\")\n",
    "        print(chunk.content[:300] + \"...\")"
   ]
  },
  {
   "cell_type": "markdown",
   "metadata": {},
   "source": [
    "### Embedding Text (with Header)\n",
    "\n",
    "The `embedding_text` field includes the header for better semantic search, but the `content` field keeps only the actual filing text."
   ]
  },
  {
   "cell_type": "code",
   "execution_count": null,
   "metadata": {},
   "outputs": [],
   "source": [
    "if risk_chunks:\n",
    "    print(\"First chunk's embedding_text (includes header):\")\n",
    "    print(\"=\" * 80)\n",
    "    print(risk_chunks[0].embedding_text[:600])\n",
    "    print(\"...\")"
   ]
  },
  {
   "cell_type": "markdown",
   "metadata": {},
   "source": [
    "## 5. Putting It Together: Simple Keyword Search\n",
    "\n",
    "Instead of brute-forcing 200 pages, retrieval now happens over meaningful segments with built-in context. Let's mock a simple keyword search:"
   ]
  },
  {
   "cell_type": "code",
   "execution_count": null,
   "metadata": {},
   "outputs": [],
   "source": [
    "query = \"supply chain\"\n",
    "matches = [c for c in risk_chunks if query.lower() in c.content.lower()]\n",
    "\n",
    "print(f\"Found {len(matches)} chunks mentioning '{query}'\\n\")\n",
    "\n",
    "for i, m in enumerate(matches[:2]):\n",
    "    print(f\"\\n{'='*80}\")\n",
    "    print(f\"Match {i+1} | Page {m.page}\")\n",
    "    print(f\"{'='*80}\")\n",
    "    display(Markdown(m.content[:400] + \"...\"))"
   ]
  },
  {
   "cell_type": "markdown",
   "metadata": {},
   "source": [
    "## 6. Bonus: Check Table Preservation\n",
    "\n",
    "Let's verify that complex tables are preserved in Markdown format."
   ]
  },
  {
   "cell_type": "code",
   "execution_count": null,
   "metadata": {},
   "outputs": [],
   "source": [
    "# Chunk all pages to find tables\n",
    "all_chunks = sec2md.chunk_pages(pages, chunk_size=512, chunk_overlap=128)\n",
    "\n",
    "table_chunks = [c for c in all_chunks if c.has_table]\n",
    "\n",
    "print(f\"Chunks with tables: {len(table_chunks)} / {len(all_chunks)}\")\n",
    "\n",
    "if table_chunks:\n",
    "    print(f\"\\nFirst table chunk (Page {table_chunks[0].page}):\")\n",
    "    print(\"=\" * 80)\n",
    "    display(Markdown(table_chunks[0].content[:600]))"
   ]
  },
  {
   "cell_type": "markdown",
   "metadata": {},
   "source": [
    "## Conclusion\n",
    "\n",
    "We started with unreadable HTML where **all tables get garbled by standard parsers**, and ended with:\n",
    "\n",
    "- ✅ Clean, structured Markdown\n",
    "- ✅ Preserved tables in pipe format\n",
    "- ✅ Section-aware extraction (ITEM 1, 1A, 7, etc.)\n",
    "- ✅ Page-aware chunks with metadata headers\n",
    "- ✅ Ready for embeddings and retrieval\n",
    "\n",
    "`sec2md` doesn't just clean data — **it gives your AI a map**.\n",
    "\n",
    "### Next Steps\n",
    "\n",
    "Try it on different document types:\n",
    "- 10-Q filings\n",
    "- 8-K press releases\n",
    "- Proxy statements (DEF 14A)\n",
    "- Merger exhibits and material contracts\n",
    "\n",
    "You'll see the same structural preservation across all SEC document types."
   ]
  }
 ],
 "metadata": {
  "kernelspec": {
   "display_name": "Python 3",
   "language": "python",
   "name": "python3"
  },
  "language_info": {
   "codemirror_mode": {
    "name": "ipython",
    "version": 3
   },
   "file_extension": ".py",
   "mimetype": "text/x-python",
   "name": "python",
   "nbconvert_exporter": "python",
   "pygments_lexer": "ipython3",
   "version": "3.11.0"
  }
 },
 "nbformat": 4,
 "nbformat_minor": 4
}
